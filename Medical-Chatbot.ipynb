{
 "cells": [
  {
   "cell_type": "markdown",
   "id": "27777bac",
   "metadata": {},
   "source": [
    "# Data Loading"
   ]
  },
  {
   "cell_type": "code",
   "execution_count": 2,
   "id": "25e95646",
   "metadata": {},
   "outputs": [],
   "source": [
    "from langchain.document_loaders import PyPDFLoader, DirectoryLoader\n",
    "from langchain.text_splitter import RecursiveCharacterTextSplitter"
   ]
  },
  {
   "cell_type": "code",
   "execution_count": 3,
   "id": "da33aa65",
   "metadata": {},
   "outputs": [],
   "source": [
    "def load_pdf_file(data):\n",
    "    loader = DirectoryLoader(data, glob=\"**/*.pdf\",loader_cls=PyPDFLoader)\n",
    "    documents = loader.load()\n",
    "\n",
    "    return documents"
   ]
  },
  {
   "cell_type": "code",
   "execution_count": 7,
   "id": "8efabab6",
   "metadata": {},
   "outputs": [],
   "source": [
    "extracted_data = load_pdf_file(\"Data/\")"
   ]
  },
  {
   "cell_type": "markdown",
   "id": "af0fa80e",
   "metadata": {},
   "source": [
    "# Chunking"
   ]
  },
  {
   "cell_type": "code",
   "execution_count": 8,
   "id": "0569ebb5",
   "metadata": {},
   "outputs": [],
   "source": [
    "def text_splitter(documents):\n",
    "    text_splitter = RecursiveCharacterTextSplitter(chunk_size=500, chunk_overlap=20)\n",
    "    split_documents = text_splitter.split_documents(documents)\n",
    "\n",
    "    return split_documents"
   ]
  },
  {
   "cell_type": "code",
   "execution_count": 9,
   "id": "acacd5e2",
   "metadata": {},
   "outputs": [
    {
     "name": "stdout",
     "output_type": "stream",
     "text": [
      "Total number of chunks: 6973\n"
     ]
    }
   ],
   "source": [
    "text_chunks = text_splitter(extracted_data)\n",
    "print(f\"Total number of chunks: {len(text_chunks)}\")"
   ]
  },
  {
   "cell_type": "markdown",
   "id": "594520ca",
   "metadata": {},
   "source": [
    "# Embedding"
   ]
  },
  {
   "cell_type": "code",
   "execution_count": 10,
   "id": "3ba52bdd",
   "metadata": {},
   "outputs": [],
   "source": [
    "from langchain.embeddings import HuggingFaceEmbeddings"
   ]
  },
  {
   "cell_type": "code",
   "execution_count": 11,
   "id": "f757dfef",
   "metadata": {},
   "outputs": [],
   "source": [
    "def download_embeddings():\n",
    "    embeddings = HuggingFaceEmbeddings(model_name=\"sentence-transformers/all-MiniLM-L6-v2\")\n",
    "    return embeddings"
   ]
  },
  {
   "cell_type": "code",
   "execution_count": 14,
   "id": "c4ad0a11",
   "metadata": {},
   "outputs": [
    {
     "name": "stderr",
     "output_type": "stream",
     "text": [
      "c:\\Users\\Induwara Gayashan\\anaconda3\\envs\\medibot\\lib\\site-packages\\huggingface_hub\\file_download.py:143: UserWarning: `huggingface_hub` cache-system uses symlinks by default to efficiently store duplicated files but your machine does not support them in C:\\Users\\Induwara Gayashan\\.cache\\huggingface\\hub\\models--sentence-transformers--all-MiniLM-L6-v2. Caching files will still work but in a degraded version that might require more space on your disk. This warning can be disabled by setting the `HF_HUB_DISABLE_SYMLINKS_WARNING` environment variable. For more details, see https://huggingface.co/docs/huggingface_hub/how-to-cache#limitations.\n",
      "To support symlinks on Windows, you either need to activate Developer Mode or to run Python as an administrator. In order to activate developer mode, see this article: https://docs.microsoft.com/en-us/windows/apps/get-started/enable-your-device-for-development\n",
      "  warnings.warn(message)\n",
      "Xet Storage is enabled for this repo, but the 'hf_xet' package is not installed. Falling back to regular HTTP download. For better performance, install the package with: `pip install huggingface_hub[hf_xet]` or `pip install hf_xet`\n"
     ]
    }
   ],
   "source": [
    "embeddings = download_embeddings()"
   ]
  },
  {
   "cell_type": "markdown",
   "id": "65a20fed",
   "metadata": {},
   "source": [
    "# Pinecone"
   ]
  },
  {
   "cell_type": "code",
   "execution_count": 17,
   "id": "8fc8cb96",
   "metadata": {},
   "outputs": [],
   "source": [
    "import os\n",
    "from pinecone import Pinecone, ServerlessSpec\n",
    "from dotenv import load_dotenv\n",
    "\n",
    "load_dotenv()\n",
    "\n",
    "# Instantiate the Pinecone client\n",
    "pc = Pinecone(api_key=os.getenv(\"PINECONE_API_KEY\"))\n",
    "\n",
    "# Connect to the index\n",
    "index = pc.Index(\"medibot\")"
   ]
  },
  {
   "cell_type": "code",
   "execution_count": 18,
   "id": "01d0c09d",
   "metadata": {},
   "outputs": [
    {
     "data": {
      "text/plain": [
       "{'dimension': 384,\n",
       " 'index_fullness': 0.0,\n",
       " 'metric': 'cosine',\n",
       " 'namespaces': {},\n",
       " 'total_vector_count': 0,\n",
       " 'vector_type': 'dense'}"
      ]
     },
     "execution_count": 18,
     "metadata": {},
     "output_type": "execute_result"
    }
   ],
   "source": [
    "index.describe_index_stats()"
   ]
  },
  {
   "cell_type": "markdown",
   "id": "62020083",
   "metadata": {},
   "source": [
    "# Vectorstore"
   ]
  },
  {
   "cell_type": "code",
   "execution_count": 19,
   "id": "645f89d1",
   "metadata": {},
   "outputs": [],
   "source": [
    "from langchain_pinecone import PineconeVectorStore\n",
    "\n",
    "docsearch = PineconeVectorStore.from_documents(\n",
    "    documents=text_chunks,\n",
    "    index_name=\"medibot\",\n",
    "    embedding=embeddings\n",
    ")"
   ]
  },
  {
   "cell_type": "markdown",
   "id": "a93aeb1c",
   "metadata": {},
   "source": [
    "# Retriever"
   ]
  },
  {
   "cell_type": "code",
   "execution_count": 20,
   "id": "316673f5",
   "metadata": {},
   "outputs": [],
   "source": [
    "retriever = docsearch.as_retriever(search_type=\"similarity\", search_kwargs={\"k\": 3})"
   ]
  },
  {
   "cell_type": "code",
   "execution_count": 21,
   "id": "8b0c1ec2",
   "metadata": {},
   "outputs": [
    {
     "data": {
      "text/plain": [
       "[Document(id='50cd1367-0ed7-484f-8db1-d65192e614fa', metadata={'author': '', 'creationdate': '2017-05-01T10:37:35-07:00', 'creator': '', 'keywords': '', 'moddate': '2017-05-01T10:37:35-07:00', 'page': 434.0, 'page_label': '435', 'producer': 'GPL Ghostscript 9.10', 'source': 'Data\\\\The_GALE_ENCYCLOPEDIA_of_MEDICINE_SECOND.pdf', 'subject': '', 'title': '', 'total_pages': 759.0}, page_content='GALE ENCYCLOPEDIA OF MEDICINE 2 1047\\nDiabetes mellitus'),\n",
       " Document(id='882a0899-0ea7-4f60-9afa-f6b9f9e796b4', metadata={'author': '', 'creationdate': '2017-05-01T10:37:35-07:00', 'creator': '', 'keywords': '', 'moddate': '2017-05-01T10:37:35-07:00', 'page': 438.0, 'page_label': '439', 'producer': 'GPL Ghostscript 9.10', 'source': 'Data\\\\The_GALE_ENCYCLOPEDIA_of_MEDICINE_SECOND.pdf', 'subject': '', 'title': '', 'total_pages': 759.0}, page_content='available to treat diabetes include metformin, acarbose,\\nand troglitizone. The choice of the right medication\\ndepends in part on the individual patient profile. All drugs\\nhave side effects that may make them inappropriate for\\nparticular patients. Some for example, may stimulate\\nweight gain or cause stomach irritation, so they may not be\\nthe best treatment for someone who is already overweight\\nor who also has stomach ulcers. While these medications'),\n",
       " Document(id='2c473a9d-7aca-43a0-bb32-a0699e09f1d5', metadata={'author': '', 'creationdate': '2017-05-01T10:37:35-07:00', 'creator': '', 'keywords': '', 'moddate': '2017-05-01T10:37:35-07:00', 'page': 439.0, 'page_label': '440', 'producer': 'GPL Ghostscript 9.10', 'source': 'Data\\\\The_GALE_ENCYCLOPEDIA_of_MEDICINE_SECOND.pdf', 'subject': '', 'title': '', 'total_pages': 759.0}, page_content='dies may also be helpful in managing diabetes. Although\\nthere is no herbal substitute for insulin, some herbs may\\nhelp adjust blood sugar levels or manage other diabetic\\nsymptoms. Some options include:\\n• fenugreek ( Trigonella foenum-graecum ) has been\\nshown in some studies to reduce blood insulin and glu-\\ncose levels while also lowering cholesterol\\n• bilberry ( Vaccinium myrtillus ) may lower blood glu-\\ncose levels, as well as helping to maintain healthy\\nblood vessels')]"
      ]
     },
     "execution_count": 21,
     "metadata": {},
     "output_type": "execute_result"
    }
   ],
   "source": [
    "retrieved_docs = retriever.invoke(\"What is the treatment for diabetes?\")\n",
    "retrieved_docs"
   ]
  },
  {
   "cell_type": "markdown",
   "id": "86d7d526",
   "metadata": {},
   "source": [
    "# LLM"
   ]
  },
  {
   "cell_type": "code",
   "execution_count": 23,
   "id": "e9e8c70b",
   "metadata": {},
   "outputs": [],
   "source": [
    "from langchain_openai import ChatOpenAI\n",
    "load_dotenv()\n",
    "llm = ChatOpenAI(\n",
    "             model = \"openai/gpt-4o-mini\",\n",
    "             api_key=os.getenv(\"OPENAI_API_KEY\"),\n",
    "             base_url=\"https://models.github.ai/inference\",\n",
    "             temperature=0.4,\n",
    "             max_completion_tokens=500\n",
    ")"
   ]
  },
  {
   "cell_type": "code",
   "execution_count": 32,
   "id": "17b9baa5",
   "metadata": {},
   "outputs": [],
   "source": [
    "from langchain.chains import create_retrieval_chain\n",
    "from langchain.chains.combine_documents import create_stuff_documents_chain\n",
    "from langchain_core.prompts import ChatPromptTemplate\n",
    "\n",
    "system_prompt = (\n",
    "    \"You are an AI assistant specialized in medical knowledge. \"\n",
    "    \"Use the following pieces of context to answer the question. \"\n",
    "    \"If you don't know the answer, just say that you don't know. \"\n",
    "    \"Use three sentences maxim and keep the answer concise. \"\n",
    "    \"\\n\\n\"\n",
    "    \"{context}\"\n",
    ")\n",
    "\n",
    "prompt = ChatPromptTemplate.from_messages(\n",
    "    [\n",
    "        (\"system\", system_prompt),\n",
    "        (\"human\", \"{input}\"),\n",
    "    ]\n",
    ")"
   ]
  },
  {
   "cell_type": "code",
   "execution_count": 33,
   "id": "103d65b2",
   "metadata": {},
   "outputs": [],
   "source": [
    "question_answer_chain = create_stuff_documents_chain(\n",
    "    llm=llm,\n",
    "    prompt=prompt,)\n",
    "\n",
    "rag_chain = create_retrieval_chain(\n",
    "    retriever,\n",
    "    question_answer_chain)"
   ]
  },
  {
   "cell_type": "code",
   "execution_count": 34,
   "id": "36e2d0c0",
   "metadata": {},
   "outputs": [
    {
     "name": "stdout",
     "output_type": "stream",
     "text": [
      "Treatment for diabetes typically includes medications such as metformin, acarbose, and troglitizone, chosen based on the individual patient's profile. Additionally, some herbs like fenugreek and bilberry may help manage blood sugar levels and other symptoms. Lifestyle changes, including diet and exercise, are also crucial in managing diabetes effectively.\n"
     ]
    }
   ],
   "source": [
    "response = rag_chain.invoke({\"input\": \"What is the treatment for diabetes?\"})\n",
    "print(response['answer'])"
   ]
  }
 ],
 "metadata": {
  "kernelspec": {
   "display_name": "medibot",
   "language": "python",
   "name": "python3"
  },
  "language_info": {
   "codemirror_mode": {
    "name": "ipython",
    "version": 3
   },
   "file_extension": ".py",
   "mimetype": "text/x-python",
   "name": "python",
   "nbconvert_exporter": "python",
   "pygments_lexer": "ipython3",
   "version": "3.10.18"
  }
 },
 "nbformat": 4,
 "nbformat_minor": 5
}
