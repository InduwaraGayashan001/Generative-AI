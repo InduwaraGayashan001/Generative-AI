{
  "nbformat": 4,
  "nbformat_minor": 0,
  "metadata": {
    "colab": {
      "provenance": [],
      "gpuType": "T4",
      "authorship_tag": "ABX9TyMlsuR2R17YHQjrkBtEroPe",
      "include_colab_link": true
    },
    "kernelspec": {
      "name": "python3",
      "display_name": "Python 3"
    },
    "language_info": {
      "name": "python"
    },
    "accelerator": "GPU"
  },
  "cells": [
    {
      "cell_type": "markdown",
      "metadata": {
        "id": "view-in-github",
        "colab_type": "text"
      },
      "source": [
        "<a href=\"https://colab.research.google.com/github/InduwaraGayashan001/Generative-AI/blob/main/LlamaIndex.ipynb\" target=\"_parent\"><img src=\"https://colab.research.google.com/assets/colab-badge.svg\" alt=\"Open In Colab\"/></a>"
      ]
    },
    {
      "cell_type": "markdown",
      "source": [
        "# Setup"
      ],
      "metadata": {
        "id": "8-rLCPoX0Yk2"
      }
    },
    {
      "cell_type": "code",
      "execution_count": null,
      "metadata": {
        "id": "yQts5EzEzxN7"
      },
      "outputs": [],
      "source": [
        "!pip install -q llama-index\n",
        "!pip install pypdf\n",
        "!pip install docx2txt\n",
        "!pip install google-generativeai\n",
        "!pip install transformers"
      ]
    },
    {
      "cell_type": "code",
      "source": [
        "!pip uninstall -y google-generativeai\n",
        "!pip install google-generativeai --upgrade"
      ],
      "metadata": {
        "id": "TTOJgulBQVDk"
      },
      "execution_count": null,
      "outputs": []
    },
    {
      "cell_type": "code",
      "source": [
        "!pip install sentence-transformers\n",
        "!pip install langchain-community\n",
        "!pip install llama-index-embeddings-langchain"
      ],
      "metadata": {
        "id": "CIqkTtPcR-3m"
      },
      "execution_count": null,
      "outputs": []
    },
    {
      "cell_type": "code",
      "source": [
        "from llama_index.core.readers import SimpleDirectoryReader\n",
        "from llama_index.core.indices.vector_store import VectorStoreIndex\n",
        "from llama_index.core import ServiceContext, StorageContext, load_index_from_storage\n",
        "from llama_index.llms.gemini import Gemini\n",
        "import os\n"
      ],
      "metadata": {
        "id": "21Ncvigv1aux"
      },
      "execution_count": 3,
      "outputs": []
    },
    {
      "cell_type": "markdown",
      "source": [
        "# Load Data"
      ],
      "metadata": {
        "id": "AvSUKwxK3dn9"
      }
    },
    {
      "cell_type": "code",
      "source": [
        "!mkdir data"
      ],
      "metadata": {
        "id": "TBTah8gN3fB0"
      },
      "execution_count": null,
      "outputs": []
    },
    {
      "cell_type": "code",
      "source": [
        "documents = SimpleDirectoryReader(\"data\").load_data()"
      ],
      "metadata": {
        "id": "fzU-GRWV3hDY"
      },
      "execution_count": 6,
      "outputs": []
    },
    {
      "cell_type": "code",
      "source": [
        "documents[0]"
      ],
      "metadata": {
        "colab": {
          "base_uri": "https://localhost:8080/"
        },
        "id": "rzGKto0951Ub",
        "outputId": "10d9ce8e-8b9c-4a3a-902c-a26e578ccdd2"
      },
      "execution_count": 7,
      "outputs": [
        {
          "output_type": "execute_result",
          "data": {
            "text/plain": [
              "Document(id_='368ee306-e0d9-4045-9a76-a8d83bcddaa8', embedding=None, metadata={'page_label': '1', 'file_name': 'YOLO.pdf', 'file_path': '/content/data/YOLO.pdf', 'file_type': 'application/pdf', 'file_size': 2491132, 'creation_date': '2025-06-28', 'last_modified_date': '2025-06-28'}, excluded_embed_metadata_keys=['file_name', 'file_type', 'file_size', 'creation_date', 'last_modified_date', 'last_accessed_date'], excluded_llm_metadata_keys=['file_name', 'file_type', 'file_size', 'creation_date', 'last_modified_date', 'last_accessed_date'], relationships={}, metadata_template='{key}: {value}', metadata_separator='\\n', text_resource=MediaResource(embeddings=None, data=None, text='YOLO:\\n You Only Look Once\\n Unified Real-Time Object Detection\\nPresenter: Liyang Zhong  Quan Zou', path=None, url=None, mimetype=None), image_resource=None, audio_resource=None, video_resource=None, text_template='{metadata_str}\\n\\n{content}')"
            ]
          },
          "metadata": {},
          "execution_count": 7
        }
      ]
    },
    {
      "cell_type": "markdown",
      "source": [
        "# Load the model"
      ],
      "metadata": {
        "id": "FwTfFyBQ6WKB"
      }
    },
    {
      "cell_type": "code",
      "source": [
        "from google.colab import userdata\n",
        "import google.generativeai as palm\n",
        "\n",
        "api_key = userdata.get('GOOGLE_API_KEY')"
      ],
      "metadata": {
        "id": "B1sarxL_6YPt"
      },
      "execution_count": 22,
      "outputs": []
    },
    {
      "cell_type": "code",
      "source": [
        "llm = Gemini(model=\"models/gemini-2.0-flash\", api_key=api_key)"
      ],
      "metadata": {
        "colab": {
          "base_uri": "https://localhost:8080/",
          "height": 73
        },
        "id": "P2DaRw1H6tjs",
        "outputId": "6bbfe0ac-96a5-4512-9404-b57939baa439"
      },
      "execution_count": 23,
      "outputs": [
        {
          "output_type": "stream",
          "name": "stderr",
          "text": [
            "/tmp/ipython-input-23-1256677066.py:1: DeprecationWarning: Call to deprecated class Gemini. (Should use `llama-index-llms-google-genai` instead, using Google's latest unified SDK. See: https://docs.llamaindex.ai/en/stable/examples/llm/google_genai/)\n",
            "  llm = Gemini(model=\"models/gemini-2.0-flash\", api_key=api_key)\n"
          ]
        }
      ]
    },
    {
      "cell_type": "markdown",
      "source": [
        "# Chunking"
      ],
      "metadata": {
        "id": "ZVGm2dGgRCmG"
      }
    },
    {
      "cell_type": "code",
      "source": [
        "from langchain.embeddings.huggingface import HuggingFaceEmbeddings\n",
        "embed_model = HuggingFaceEmbeddings(model_name=\"BAAI/bge-base-en\")"
      ],
      "metadata": {
        "id": "X6xpuZ1JRqAO"
      },
      "execution_count": 24,
      "outputs": []
    },
    {
      "cell_type": "code",
      "source": [
        "from llama_index.core.settings import Settings\n",
        "\n",
        "Settings.llm = llm\n",
        "Settings.embed_model = embed_model\n",
        "Settings.chunk_size = 1000\n",
        "Settings.chunk_overlap = 200\n"
      ],
      "metadata": {
        "id": "fQUmzO6h62r1"
      },
      "execution_count": 25,
      "outputs": []
    },
    {
      "cell_type": "code",
      "source": [
        "index = VectorStoreIndex.from_documents(documents)"
      ],
      "metadata": {
        "id": "zvOJG_u9T9Lw"
      },
      "execution_count": 26,
      "outputs": []
    },
    {
      "cell_type": "markdown",
      "source": [
        "# Storing and Loading the Index"
      ],
      "metadata": {
        "id": "5zS8NffyUnZ8"
      }
    },
    {
      "cell_type": "code",
      "source": [
        "# Save to a directory\n",
        "index.storage_context.persist()"
      ],
      "metadata": {
        "id": "xfq-NmbaUqXK"
      },
      "execution_count": 27,
      "outputs": []
    },
    {
      "cell_type": "code",
      "source": [
        "# Load from directory\n",
        "storage_context = StorageContext.from_defaults(persist_dir=\"./storage\")\n",
        "index = load_index_from_storage(storage_context)"
      ],
      "metadata": {
        "colab": {
          "base_uri": "https://localhost:8080/"
        },
        "id": "PeVq7iH2VDDH",
        "outputId": "431e76ac-9f17-463a-8962-124aade53703"
      },
      "execution_count": 28,
      "outputs": [
        {
          "output_type": "stream",
          "name": "stdout",
          "text": [
            "Loading llama_index.core.storage.kvstore.simple_kvstore from ./storage/docstore.json.\n",
            "Loading llama_index.core.storage.kvstore.simple_kvstore from ./storage/index_store.json.\n"
          ]
        }
      ]
    },
    {
      "cell_type": "markdown",
      "source": [
        "# Q/A"
      ],
      "metadata": {
        "id": "hdEeWjQJVZoR"
      }
    },
    {
      "cell_type": "code",
      "source": [
        "query_engine = index.as_query_engine()"
      ],
      "metadata": {
        "id": "UrcM0VCaVPFS"
      },
      "execution_count": 29,
      "outputs": []
    },
    {
      "cell_type": "code",
      "source": [
        "response = query_engine.query(\"What is YOLO?\")"
      ],
      "metadata": {
        "id": "QDtsXu87Vlfg"
      },
      "execution_count": 30,
      "outputs": []
    },
    {
      "cell_type": "code",
      "source": [
        "response"
      ],
      "metadata": {
        "colab": {
          "base_uri": "https://localhost:8080/"
        },
        "id": "Xu7-jiPRWMMJ",
        "outputId": "237f8968-5ef1-4308-bee8-987e65dd4349"
      },
      "execution_count": 31,
      "outputs": [
        {
          "output_type": "execute_result",
          "data": {
            "text/plain": [
              "Response(response='YOLO is extremely fast, reasons globally on the entire image, and learns generalizable representations. However, its performance is lower than state-of-the-art and it makes more localization errors.\\n', source_nodes=[NodeWithScore(node=TextNode(id_='882aa484-113b-4e34-b784-6fef4be4d79c', embedding=None, metadata={'page_label': '58', 'file_name': 'YOLO.pdf', 'file_path': '/content/data/YOLO.pdf', 'file_type': 'application/pdf', 'file_size': 2491132, 'creation_date': '2025-06-28', 'last_modified_date': '2025-06-28'}, excluded_embed_metadata_keys=['file_name', 'file_type', 'file_size', 'creation_date', 'last_modified_date', 'last_accessed_date'], excluded_llm_metadata_keys=['file_name', 'file_type', 'file_size', 'creation_date', 'last_modified_date', 'last_accessed_date'], relationships={<NodeRelationship.SOURCE: '1'>: RelatedNodeInfo(node_id='015a7239-f4ab-4718-ba4c-4afca11bfec6', node_type='4', metadata={'page_label': '58', 'file_name': 'YOLO.pdf', 'file_path': '/content/data/YOLO.pdf', 'file_type': 'application/pdf', 'file_size': 2491132, 'creation_date': '2025-06-28', 'last_modified_date': '2025-06-28'}, hash='8b3085582e96173271b6af883f3af1b75f9cc10a279ceb7706b13c2bf67331b2')}, metadata_template='{key}: {value}', metadata_separator='\\n', text='● Weaknesses:\\n○ Performance is lower than state-of-art \\n○ Makes more localization errors\\nStrengths and Weaknesses', mimetype='text/plain', start_char_idx=0, end_char_idx=113, metadata_seperator='\\n', text_template='{metadata_str}\\n\\n{content}'), score=0.8517406160840307), NodeWithScore(node=TextNode(id_='398f94c4-1339-4e45-99b1-a9cc35791c1f', embedding=None, metadata={'page_label': '7', 'file_name': 'YOLO.pdf', 'file_path': '/content/data/YOLO.pdf', 'file_type': 'application/pdf', 'file_size': 2491132, 'creation_date': '2025-06-28', 'last_modified_date': '2025-06-28'}, excluded_embed_metadata_keys=['file_name', 'file_type', 'file_size', 'creation_date', 'last_modified_date', 'last_accessed_date'], excluded_llm_metadata_keys=['file_name', 'file_type', 'file_size', 'creation_date', 'last_modified_date', 'last_accessed_date'], relationships={<NodeRelationship.SOURCE: '1'>: RelatedNodeInfo(node_id='46321e7f-abca-45dc-b38b-2dcf869870be', node_type='4', metadata={'page_label': '7', 'file_name': 'YOLO.pdf', 'file_path': '/content/data/YOLO.pdf', 'file_type': 'application/pdf', 'file_size': 2491132, 'creation_date': '2025-06-28', 'last_modified_date': '2025-06-28'}, hash='11e8b8bdc5d42af78962b1b3e0d5ebe5cbd6137317bab198231d759aafe586df')}, metadata_template='{key}: {value}', metadata_separator='\\n', text='YOLO Features：\\n1. Extremely fast (45 frames per second)\\n2. Reason Globally on the Entire Image\\n3. Learn Generalizable Representations', mimetype='text/plain', start_char_idx=0, end_char_idx=133, metadata_seperator='\\n', text_template='{metadata_str}\\n\\n{content}'), score=0.8430070239058877)], metadata={'882aa484-113b-4e34-b784-6fef4be4d79c': {'page_label': '58', 'file_name': 'YOLO.pdf', 'file_path': '/content/data/YOLO.pdf', 'file_type': 'application/pdf', 'file_size': 2491132, 'creation_date': '2025-06-28', 'last_modified_date': '2025-06-28'}, '398f94c4-1339-4e45-99b1-a9cc35791c1f': {'page_label': '7', 'file_name': 'YOLO.pdf', 'file_path': '/content/data/YOLO.pdf', 'file_type': 'application/pdf', 'file_size': 2491132, 'creation_date': '2025-06-28', 'last_modified_date': '2025-06-28'}})"
            ]
          },
          "metadata": {},
          "execution_count": 31
        }
      ]
    },
    {
      "cell_type": "code",
      "source": [
        "from IPython.display import Markdown, display\n",
        "display(Markdown(f\"<b>{response}</b>\"))"
      ],
      "metadata": {
        "colab": {
          "base_uri": "https://localhost:8080/",
          "height": 81
        },
        "id": "1bp9Hbx_WQy7",
        "outputId": "59da6c6b-2009-4687-cd32-4077601d358a"
      },
      "execution_count": 32,
      "outputs": [
        {
          "output_type": "display_data",
          "data": {
            "text/plain": [
              "<IPython.core.display.Markdown object>"
            ],
            "text/markdown": "<b>YOLO is extremely fast, reasons globally on the entire image, and learns generalizable representations. However, its performance is lower than state-of-the-art and it makes more localization errors.\n</b>"
          },
          "metadata": {}
        }
      ]
    }
  ]
}