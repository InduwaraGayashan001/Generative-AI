{
  "cells": [
    {
      "cell_type": "markdown",
      "metadata": {
        "colab_type": "text",
        "id": "view-in-github"
      },
      "source": [
        "<a href=\"https://colab.research.google.com/github/InduwaraGayashan001/Generative-AI/blob/main/Llama_2_Langchain.ipynb\" target=\"_parent\"><img src=\"https://colab.research.google.com/assets/colab-badge.svg\" alt=\"Open In Colab\"/></a>"
      ]
    },
    {
      "cell_type": "markdown",
      "metadata": {
        "id": "BlczcwqzpJJ-"
      },
      "source": [
        "# Setup"
      ]
    },
    {
      "cell_type": "code",
      "execution_count": null,
      "metadata": {
        "id": "jAG24HWRn6u_"
      },
      "outputs": [],
      "source": [
        "!pip install -q transformers einops accelerate langchain bitsandbytes"
      ]
    },
    {
      "cell_type": "code",
      "execution_count": null,
      "metadata": {
        "colab": {
          "base_uri": "https://localhost:8080/"
        },
        "id": "UxjirG5yoeE4",
        "outputId": "1ce009f4-25a1-4f1b-d881-fcdc736900ad"
      },
      "outputs": [],
      "source": [
        "!pip install pypdf"
      ]
    },
    {
      "cell_type": "code",
      "execution_count": null,
      "metadata": {
        "colab": {
          "base_uri": "https://localhost:8080/"
        },
        "id": "dV81myuUp1TT",
        "outputId": "647a8252-aaef-4a81-c0b2-83f8769c73dc"
      },
      "outputs": [],
      "source": [
        "!pip install langchain_community"
      ]
    },
    {
      "cell_type": "code",
      "execution_count": null,
      "metadata": {
        "id": "u0Fo1Ypd1D96"
      },
      "outputs": [],
      "source": [
        "!huggingface-cli login"
      ]
    },
    {
      "cell_type": "code",
      "execution_count": null,
      "metadata": {
        "id": "Xy5RZImDpOBP"
      },
      "outputs": [],
      "source": [
        "from langchain.llms import HuggingFacePipeline\n",
        "from transformers import AutoTokenizer\n",
        "import transformers\n",
        "import torch\n",
        "import warnings\n",
        "warnings.filterwarnings(\"ignore\")"
      ]
    },
    {
      "cell_type": "markdown",
      "metadata": {
        "id": "5zKiQvppqOWM"
      },
      "source": [
        "# Load the Model"
      ]
    },
    {
      "cell_type": "code",
      "execution_count": null,
      "metadata": {
        "id": "MeVg1RciqLn0"
      },
      "outputs": [],
      "source": [
        "model = \"meta-llama/Llama-2-7b-chat-hf\""
      ]
    },
    {
      "cell_type": "code",
      "execution_count": null,
      "metadata": {
        "id": "CrxYRaTc3ZMz"
      },
      "outputs": [],
      "source": [
        "tokenizer = AutoTokenizer.from_pretrained(model)"
      ]
    },
    {
      "cell_type": "code",
      "execution_count": null,
      "metadata": {
        "id": "7tSuStEC3WFY"
      },
      "outputs": [],
      "source": [
        "pipeline = transformers.pipeline(\n",
        "    \"text-generation\",\n",
        "    model=model,\n",
        "    tokenizer=tokenizer,\n",
        "    torch_dtype=torch.bfloat16,\n",
        "    trust_remote_code=True,\n",
        "    device_map=\"auto\",\n",
        "    max_length=1000,\n",
        "    do_sample=True,\n",
        "    top_k=10,\n",
        "    num_return_sequences=1,\n",
        "    eos_token_id=tokenizer.eos_token_id\n",
        ")"
      ]
    },
    {
      "cell_type": "markdown",
      "metadata": {
        "id": "K6kyDWohy_F4"
      },
      "source": [
        "# Calling LLM"
      ]
    },
    {
      "cell_type": "code",
      "execution_count": null,
      "metadata": {
        "id": "nUgRNWIsyfxd"
      },
      "outputs": [],
      "source": [
        "llm = HuggingFacePipeline(pipeline = pipeline, model_kwargs = {'temperature':0})"
      ]
    },
    {
      "cell_type": "code",
      "execution_count": null,
      "metadata": {
        "id": "hYAd9PqOyjt_"
      },
      "outputs": [],
      "source": [
        "prompt = \"What would be a good company name for a company that makes colorful socks?\""
      ]
    },
    {
      "cell_type": "code",
      "execution_count": null,
      "metadata": {
        "colab": {
          "base_uri": "https://localhost:8080/"
        },
        "id": "ny9Mk0qPypEe",
        "outputId": "5530044f-cf45-423e-b0ae-44f35008c15a"
      },
      "outputs": [
        {
          "name": "stdout",
          "output_type": "stream",
          "text": [
            "What would be a good company name for a company that makes colorful socks?\n",
            "\n",
            "I would suggest something playful and catchy that reflects the fun and creative nature of your product. Here are a few ideas to get you started:\n",
            "\n",
            "1. SoleMates: This name plays off the idea of socks being a companion for your feet, but also references the idea of having fun and adventure with your friends.\n",
            "2. HueHues: This name is a play on the word \"huh?\" which is often used to express surprise or excitement. It also references the colorful nature of your socks.\n",
            "3. Footloose & Fancy Free: This name references the idea of being free and carefree, which is perfect for a product that adds a little fun and whimsy to your daily routine.\n",
            "4. SockSations: This name plays off the idea of situations or experiences, but also references the fun and playful nature of your socks.\n",
            "5. Rainbow Toes: This name is simple and straightforward, and it references the colorful nature of your socks. It also has a fun and playful tone to it.\n",
            "6. Socktastic: This name is a play on the word \"fantastic,\" and it references the fun and exciting nature of your socks.\n",
            "7. Socktitude: This name is a play on the word \"attitude,\" and it references the fun and playful nature of your socks.\n",
            "8. Toes in the Hole: This name references the idea of having fun and enjoying yourself, which is perfect for a product that adds a little joy to your daily routine.\n",
            "\n",
            "I hope these suggestions help inspire you to come up with the perfect name for your company!\n"
          ]
        }
      ],
      "source": [
        "print(llm(prompt))"
      ]
    },
    {
      "cell_type": "markdown",
      "metadata": {
        "id": "snBy3XhDzFJi"
      },
      "source": [
        "# Prompt Templates"
      ]
    },
    {
      "cell_type": "code",
      "execution_count": null,
      "metadata": {
        "id": "XEzszFY8zHfk"
      },
      "outputs": [],
      "source": [
        "from langchain.prompts import PromptTemplate\n",
        "from langchain.chains import LLMChain"
      ]
    },
    {
      "cell_type": "code",
      "execution_count": null,
      "metadata": {
        "colab": {
          "base_uri": "https://localhost:8080/"
        },
        "id": "BfIEbDOtzXVo",
        "outputId": "f358f11f-dbdd-42c6-aa13-854d670a76f7"
      },
      "outputs": [
        {
          "name": "stdout",
          "output_type": "stream",
          "text": [
            "What is a good name for a company that makes colorful socks?\n"
          ]
        }
      ],
      "source": [
        "prompt_template = PromptTemplate(\n",
        "    input_variables=[\"product\"],\n",
        "    template=\"What is a good name for a company that makes {product}?\",\n",
        ")\n",
        "\n",
        "intput_prompt = prompt_template.format(product=\"colorful socks\")\n",
        "print(intput_prompt)"
      ]
    },
    {
      "cell_type": "code",
      "execution_count": null,
      "metadata": {
        "colab": {
          "base_uri": "https://localhost:8080/"
        },
        "id": "CziikZJtzl9J",
        "outputId": "b8ad7162-0045-42dd-e744-97e8c89ec6af"
      },
      "outputs": [
        {
          "name": "stdout",
          "output_type": "stream",
          "text": [
            "What is a good name for a company that makes colorful socks?\n",
            "\n",
            "Here are a few ideas for a company that makes colorful socks:\n",
            "\n",
            "1. SoleMates: This name plays on the idea of socks being a companion for your feet, and the word \"mates\" implies a sense of camaraderie and friendship.\n",
            "2. Hue & Cry: This name references the idea of color and creativity, and the phrase \"hue and cry\" can also imply a sense of excitement and energy.\n",
            "3. Toe-Tally Awesome: This name is a play on the phrase \"totally awesome,\" and the word \"toe\" references the fact that the socks are for your feet.\n",
            "4. Sock It to Me: This name is a play on the phrase \"sock it to me,\" which means to impress or surprise someone. It also references the idea of socks being a fun and exciting product.\n",
            "5. Footloose & Fancy-Free: This name references the idea of being free and unencumbered, and the word \"footloose\" implies a sense of mobility and movement.\n",
            "6. Socktastic: This name is a play on the word \"fantastic,\" and it references the idea of socks being a fun and exciting product.\n",
            "7. The Sock Society: This name implies a sense of exclusivity and membership, and it references the idea of socks being a special and unique product.\n",
            "8. Sock-a-licious: This name is a play on the word \"delicious,\" and it references the idea of socks being a tasty and enjoyable product.\n",
            "9. Sock-tastic Adventures: This name references the idea of socks being a fun and exciting product that can take you on adventures.\n",
            "10. Sock-topia: This name references the idea of socks being a utopian or ideal product, and it implies a sense of happiness and satisfaction.\n",
            "\n",
            "I hope these ideas help inspire you to come up with the perfect name for your company!\n"
          ]
        }
      ],
      "source": [
        "chain = LLMChain(llm=llm, prompt=prompt_template)\n",
        "response = chain.run(product=\"colorful socks\")\n",
        "print(response)"
      ]
    }
  ],
  "metadata": {
    "colab": {
      "authorship_tag": "ABX9TyPvfzHXrMMUFqQvdW67vWZC",
      "include_colab_link": true,
      "provenance": []
    },
    "kernelspec": {
      "display_name": "Python 3",
      "name": "python3"
    },
    "language_info": {
      "name": "python"
    }
  },
  "nbformat": 4,
  "nbformat_minor": 0
}
